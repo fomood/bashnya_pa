{
 "cells": [
  {
   "cell_type": "markdown",
   "id": "31d4b6fb-9928-4687-8955-f5ff8091e5e1",
   "metadata": {},
   "source": [
    "Базовое ДЗ на 17.10.2024 Сердюков Алексей СГН3-11Б\n",
    "====="
   ]
  },
  {
   "cell_type": "code",
   "execution_count": 2,
   "id": "803df18f-1957-49eb-8acf-780a211c5b59",
   "metadata": {},
   "outputs": [],
   "source": [
    "import pandas as pd\n",
    "import numpy as np\n",
    "import seaborn as sns\n",
    "import matplotlib.pyplot as plt"
   ]
  },
  {
   "cell_type": "markdown",
   "id": "a080ad40-bc83-4088-a658-d8b2b902b3d4",
   "metadata": {},
   "source": [
    "Задание № 1\n",
    "================================================================"
   ]
  },
  {
   "cell_type": "markdown",
   "id": "e9470e9b-b984-48dc-b43f-eabac7298fbc",
   "metadata": {},
   "source": [
    "Таблица c журналом посещений:\n",
    "---"
   ]
  },
  {
   "cell_type": "code",
   "execution_count": 5,
   "id": "e782767c-15f2-4a85-af3e-9e0e6c85483b",
   "metadata": {},
   "outputs": [
    {
     "name": "stdout",
     "output_type": "stream",
     "text": [
      "<class 'pandas.core.frame.DataFrame'>\n",
      "RangeIndex: 167890 entries, 0 to 167889\n",
      "Data columns (total 6 columns):\n",
      " #   Column            Non-Null Count   Dtype         \n",
      "---  ------            --------------   -----         \n",
      " 0   user_id           167890 non-null  object        \n",
      " 1   region            167890 non-null  object        \n",
      " 2   device            167890 non-null  object        \n",
      " 3   channel           167890 non-null  object        \n",
      " 4   session_duration  167890 non-null  float64       \n",
      " 5   session_start     167890 non-null  datetime64[ns]\n",
      "dtypes: datetime64[ns](1), float64(1), object(4)\n",
      "memory usage: 7.7+ MB\n"
     ]
    }
   ],
   "source": [
    "visits_info = pd.read_excel('hw_lesson02_sessions.xlsx', sheet_name='data')\n",
    "visits_info.info()"
   ]
  },
  {
   "cell_type": "code",
   "execution_count": 6,
   "id": "99035334-4fe7-4601-a9ce-7111f0ca0f2f",
   "metadata": {},
   "outputs": [
    {
     "data": {
      "text/plain": [
       "region\n",
       "CN               33116\n",
       "North America    28260\n",
       "CIS              26187\n",
       "Europe           23413\n",
       "South America    19962\n",
       "Africa           15049\n",
       "SEA              12356\n",
       "Australia         9547\n",
       "Name: count, dtype: int64"
      ]
     },
     "execution_count": 6,
     "metadata": {},
     "output_type": "execute_result"
    }
   ],
   "source": [
    "visits_info['region'].value_counts()"
   ]
  },
  {
   "cell_type": "code",
   "execution_count": 7,
   "id": "dde66a6c-7e3a-4b08-9bf9-71bc1bf53e97",
   "metadata": {},
   "outputs": [
    {
     "data": {
      "text/plain": [
       "device\n",
       "Andoroid    116186\n",
       "iPhone       51704\n",
       "Name: count, dtype: int64"
      ]
     },
     "execution_count": 7,
     "metadata": {},
     "output_type": "execute_result"
    }
   ],
   "source": [
    "visits_info['device'].value_counts()"
   ]
  },
  {
   "cell_type": "code",
   "execution_count": 8,
   "id": "d0b6d91e-14da-499a-911e-a5c1ce59e591",
   "metadata": {},
   "outputs": [
    {
     "data": {
      "text/plain": [
       "Timestamp('2020-04-01 00:00:23')"
      ]
     },
     "execution_count": 8,
     "metadata": {},
     "output_type": "execute_result"
    }
   ],
   "source": [
    "visits_info['session_start'].min()\n"
   ]
  },
  {
   "cell_type": "code",
   "execution_count": 9,
   "id": "cf8c10de-88e0-45ae-b9dd-f67730c52303",
   "metadata": {},
   "outputs": [
    {
     "data": {
      "text/plain": [
       "Timestamp('2020-06-30 23:59:45')"
      ]
     },
     "execution_count": 9,
     "metadata": {},
     "output_type": "execute_result"
    }
   ],
   "source": [
    "visits_info['session_start'].max()"
   ]
  },
  {
   "cell_type": "markdown",
   "id": "94eb822d-2d77-450c-abfb-fd649c0ec13f",
   "metadata": {},
   "source": [
    "Таблица о туториалах:\n",
    "---"
   ]
  },
  {
   "cell_type": "code",
   "execution_count": 11,
   "id": "ae3265dd-fc57-41b5-88bc-826f3d1c06b5",
   "metadata": {},
   "outputs": [
    {
     "name": "stdout",
     "output_type": "stream",
     "text": [
      "<class 'pandas.core.frame.DataFrame'>\n",
      "RangeIndex: 59857 entries, 0 to 59856\n",
      "Data columns (total 4 columns):\n",
      " #   Column        Non-Null Count  Dtype \n",
      "---  ------        --------------  ----- \n",
      " 0   user_id       59857 non-null  object\n",
      " 1   event_name    59857 non-null  object\n",
      " 2   event_dt      59857 non-null  object\n",
      " 3   duration_sec  59857 non-null  int64 \n",
      "dtypes: int64(1), object(3)\n",
      "memory usage: 1.8+ MB\n"
     ]
    }
   ],
   "source": [
    "tutorial_done = pd.read_csv('hw_lesson02_tutorial_completed.csv')\n",
    "tutorial_done.info()"
   ]
  },
  {
   "cell_type": "code",
   "execution_count": 12,
   "id": "0f7a3251-9f6e-44ad-8063-c4a8b6c6db16",
   "metadata": {},
   "outputs": [
    {
     "data": {
      "text/plain": [
       "'2020-04-01 00:04:01'"
      ]
     },
     "execution_count": 12,
     "metadata": {},
     "output_type": "execute_result"
    }
   ],
   "source": [
    "tutorial_done['event_dt'].min()"
   ]
  },
  {
   "cell_type": "code",
   "execution_count": 13,
   "id": "a37a921b-1fde-494f-a8a4-548a1c669f39",
   "metadata": {},
   "outputs": [
    {
     "data": {
      "text/plain": [
       "'2020-06-30 23:54:40'"
      ]
     },
     "execution_count": 13,
     "metadata": {},
     "output_type": "execute_result"
    }
   ],
   "source": [
    "tutorial_done['event_dt'].max()"
   ]
  },
  {
   "cell_type": "markdown",
   "id": "00d79162-c9f7-4253-938a-f478b3c638ba",
   "metadata": {},
   "source": [
    "Из данных можно понять, что нибольшее количество количество пользователей пришло из Китая. Основная ОС- Android. Данные о аналитике собирались на протяжении 3 месяцев."
   ]
  },
  {
   "cell_type": "markdown",
   "id": "99d237c4-bec5-43ac-bc51-477ae35c2512",
   "metadata": {},
   "source": [
    "Задание № 2\n",
    "================================================================"
   ]
  },
  {
   "cell_type": "markdown",
   "id": "f827fb73-5788-4312-b0a7-3762d54b9856",
   "metadata": {},
   "source": [
    "Таблица о туториалах:\n",
    "---"
   ]
  },
  {
   "cell_type": "markdown",
   "id": "ca3d5aff-2d89-4ebe-9429-86f9593e2c33",
   "metadata": {},
   "source": [
    "Среднее арифметическое, cреднеквадратическое отклонение, медиана:"
   ]
  },
  {
   "cell_type": "code",
   "execution_count": 18,
   "id": "4dc612aa-c31c-4336-89a0-517f05b390c2",
   "metadata": {},
   "outputs": [
    {
     "data": {
      "text/plain": [
       "(2696.541356900613, 1631.8267232939195, 2398.0)"
      ]
     },
     "execution_count": 18,
     "metadata": {},
     "output_type": "execute_result"
    }
   ],
   "source": [
    "(tutorial_done['duration_sec'].mean(), tutorial_done['duration_sec'].std(),tutorial_done['duration_sec'].median() )"
   ]
  },
  {
   "cell_type": "markdown",
   "id": "6ba6186a-123d-4814-a2b3-1c92baa5c20b",
   "metadata": {},
   "source": [
    "В минутах:"
   ]
  },
  {
   "cell_type": "code",
   "execution_count": 20,
   "id": "6ab6490b-312c-4d6f-85e6-268f6971bcc2",
   "metadata": {},
   "outputs": [
    {
     "data": {
      "text/plain": [
       "(44.942355948343554, 39.96666666666667)"
      ]
     },
     "execution_count": 20,
     "metadata": {},
     "output_type": "execute_result"
    }
   ],
   "source": [
    "((tutorial_done['duration_sec'].mean())/60, (tutorial_done['duration_sec'].median())/60)"
   ]
  },
  {
   "cell_type": "markdown",
   "id": "860fb196-cf58-4b4e-aeff-f99a58f13471",
   "metadata": {},
   "source": [
    "Гистограмма:"
   ]
  },
  {
   "cell_type": "code",
   "execution_count": 22,
   "id": "ee7b6b19-23f2-4cb8-9a97-b0d5a1b62b5f",
   "metadata": {},
   "outputs": [
    {
     "data": {
      "image/png": "[encoded data removed]",
      "text/plain": [
       "<Figure size 640x480 with 1 Axes>"
      ]
     },
     "metadata": {},
     "output_type": "display_data"
    }
   ],
   "source": [
    "plt.hist(tutorial_done['duration_sec'], bins=100)\n",
    "plt.xlabel('Время, проведенное в обучении (в секундах)')\n",
    "plt.ylabel('Частота появления')\n",
    "plt.title('Количество секунд')\n",
    "plt.grid(False)\n",
    "plt.savefig('pict')\n",
    "plt.show()"
   ]
  },
  {
   "cell_type": "markdown",
   "id": "e13d381d-e90a-44ca-9815-b54bf761b50d",
   "metadata": {},
   "source": [
    "Из полученных данных можно сделать вывод, что большинство людей проводят в обучении в средем от 30 до 50 минут."
   ]
  },
  {
   "cell_type": "markdown",
   "id": "97ed17dc-c505-4297-9331-3ae21d82e577",
   "metadata": {},
   "source": [
    "Таблица c журналом посещений:\n",
    "---"
   ]
  },
  {
   "cell_type": "markdown",
   "id": "065b39c7-0e6d-4875-80d8-b3bd739f5f62",
   "metadata": {},
   "source": [
    "Среднее арифметическое, cреднеквадратическое отклонение, медиана:"
   ]
  },
  {
   "cell_type": "code",
   "execution_count": 26,
   "id": "8d27814d-9db5-4c18-ade7-f0e854a010e4",
   "metadata": {},
   "outputs": [
    {
     "data": {
      "text/plain": [
       "(1807.922733189622, 1807.8459582958205, 1250.3175364674275)"
      ]
     },
     "execution_count": 26,
     "metadata": {},
     "output_type": "execute_result"
    }
   ],
   "source": [
    "(visits_info['session_duration'].mean(), visits_info['session_duration'].std(),visits_info['session_duration'].median() )"
   ]
  },
  {
   "cell_type": "markdown",
   "id": "fcb384cc-17f7-44df-9faf-90fa39ac053f",
   "metadata": {},
   "source": [
    "В минутах:"
   ]
  },
  {
   "cell_type": "code",
   "execution_count": 28,
   "id": "92dd1b59-fb12-4103-9c00-328fad5ec25e",
   "metadata": {},
   "outputs": [
    {
     "data": {
      "text/plain": [
       "(30.132045553160367, 20.83862560779046)"
      ]
     },
     "execution_count": 28,
     "metadata": {},
     "output_type": "execute_result"
    }
   ],
   "source": [
    "((visits_info['session_duration'].mean())/60, (visits_info['session_duration'].median())/60)"
   ]
  },
  {
   "cell_type": "code",
   "execution_count": 29,
   "id": "0668828b-004a-44dd-90fa-4e56bd56e3c5",
   "metadata": {},
   "outputs": [
    {
     "data": {
      "image/png": "[encoded data removed]",
      "text/plain": [
       "<Figure size 640x480 with 1 Axes>"
      ]
     },
     "metadata": {},
     "output_type": "display_data"
    }
   ],
   "source": [
    "plt.hist(visits_info['session_duration'], bins=100)\n",
    "plt.xlabel('Длительность сессии(в секундах)')\n",
    "plt.ylabel('Частота появления')\n",
    "plt.title('Количество секунд')\n",
    "plt.grid(False)\n",
    "plt.savefig('pict')\n",
    "plt.show()"
   ]
  },
  {
   "cell_type": "markdown",
   "id": "d509930d-cf07-4d50-86d1-f705b6efeed3",
   "metadata": {},
   "source": [
    "Общий вывод : Из полученных данных делаем вывод, что большая половина пользователей находятся в приложении не больше 30-40 минут.\n",
    "================================================================================================================================="
   ]
  },
  {
   "cell_type": "markdown",
   "id": "82d95520-388f-4ef3-98f1-29f354fe0255",
   "metadata": {},
   "source": [
    "Задание № 3\n",
    "================================================================"
   ]
  },
  {
   "cell_type": "markdown",
   "id": "336540be-a043-4584-8789-a26f2e84b5d6",
   "metadata": {},
   "source": [
    "Таблица о туториалах:\n",
    "---"
   ]
  },
  {
   "cell_type": "code",
   "execution_count": 33,
   "id": "76094d46-3695-476e-b268-57994ac1594a",
   "metadata": {},
   "outputs": [
    {
     "data": {
      "image/png": "[encoded data removed]",
      "text/plain": [
       "<Figure size 640x480 with 1 Axes>"
      ]
     },
     "metadata": {},
     "output_type": "display_data"
    }
   ],
   "source": [
    "tutorial_done.boxplot('duration_sec', vert=False)\n",
    "plt.xlabel('Количество секунд')\n",
    "plt.title('Диаграмма размаха значений времени, проведенного в обучении')\n",
    "plt.show()"
   ]
  },
  {
   "cell_type": "markdown",
   "id": "449b4699-c845-4116-b931-f9e3a1e0f4b5",
   "metadata": {},
   "source": [
    "99% перцентиль"
   ]
  },
  {
   "cell_type": "code",
   "execution_count": 35,
   "id": "7e3b0778-e520-485f-ba45-57c6f4d2fbd1",
   "metadata": {},
   "outputs": [
    {
     "data": {
      "text/plain": [
       "7605.440000000002"
      ]
     },
     "execution_count": 35,
     "metadata": {},
     "output_type": "execute_result"
    }
   ],
   "source": [
    "tutorial_done['duration_sec'].quantile(0.99)"
   ]
  },
  {
   "cell_type": "markdown",
   "id": "e7b3778a-fe38-470b-9ff3-99df8a9872cf",
   "metadata": {},
   "source": [
    "Таблица c журналом посещений:\n",
    "---"
   ]
  },
  {
   "cell_type": "code",
   "execution_count": 37,
   "id": "bb668a43-7fbf-41f6-b421-24c6352c72db",
   "metadata": {},
   "outputs": [
    {
     "data": {
      "image/png": "[encoded data removed]",
      "text/plain": [
       "<Figure size 640x480 with 1 Axes>"
      ]
     },
     "metadata": {},
     "output_type": "display_data"
    }
   ],
   "source": [
    "visits_info.boxplot('session_duration', vert=False)\n",
    "plt.xlabel('Количество секунд')\n",
    "plt.title('Диаграмма размаха значений длительности игровой сессии')\n",
    "plt.show()"
   ]
  },
  {
   "cell_type": "markdown",
   "id": "8b9123e1-733d-44c1-981c-2722407c9022",
   "metadata": {},
   "source": [
    "99% перцентиль"
   ]
  },
  {
   "cell_type": "code",
   "execution_count": 39,
   "id": "3ce73e6c-2d9e-498f-ade4-6e19408a054e",
   "metadata": {},
   "outputs": [
    {
     "data": {
      "text/plain": [
       "8323.137208860211"
      ]
     },
     "execution_count": 39,
     "metadata": {},
     "output_type": "execute_result"
    }
   ],
   "source": [
    "visits_info['session_duration'].quantile(0.99)"
   ]
  },
  {
   "cell_type": "markdown",
   "id": "e08b523c-6676-411f-aae3-2b87da9e39d7",
   "metadata": {},
   "source": [
    "Задание № 4\n",
    "================================================================"
   ]
  },
  {
   "cell_type": "markdown",
   "id": "6ba78486-3559-4248-b4c9-d8b8d7e21bee",
   "metadata": {},
   "source": [
    "Таблица о туториалах:\n",
    "---"
   ]
  },
  {
   "cell_type": "code",
   "execution_count": 42,
   "id": "199f6070-a584-4bfd-a093-f1a16c30b962",
   "metadata": {},
   "outputs": [
    {
     "data": {
      "text/plain": [
       "6480.5"
      ]
     },
     "execution_count": 42,
     "metadata": {},
     "output_type": "execute_result"
    }
   ],
   "source": [
    "Q1 = tutorial_done['duration_sec'].quantile(0.25)\n",
    "Q3 = tutorial_done['duration_sec'].quantile(0.75)\n",
    "upper_bound = Q3 + 1.5 * (Q3-Q1)\n",
    "upper_bound"
   ]
  },
  {
   "cell_type": "code",
   "execution_count": 43,
   "id": "f5b053fc-b169-4860-80b7-5158814d3e41",
   "metadata": {},
   "outputs": [
    {
     "data": {
      "text/plain": [
       "user_id                fffcc8249f_4\n",
       "event_name       tutorial_completed\n",
       "event_dt        2020-06-30 23:54:40\n",
       "duration_sec                   6480\n",
       "dtype: object"
      ]
     },
     "execution_count": 43,
     "metadata": {},
     "output_type": "execute_result"
    }
   ],
   "source": [
    "tutorial_done_filtered = tutorial_done.query('duration_sec <= 6480.5')\n",
    "tutorial_done_filtered.max()"
   ]
  },
  {
   "cell_type": "code",
   "execution_count": 44,
   "id": "27772398-1309-407e-a215-248e432b1ed4",
   "metadata": {},
   "outputs": [],
   "source": [
    "tutorial_done_filtered.to_csv('tutorial_done_filtered.csv', index=False)"
   ]
  },
  {
   "cell_type": "markdown",
   "id": "8ff81607-0128-496d-a630-65d4c35f79ea",
   "metadata": {},
   "source": [
    "Таблица c журналом посещений:\n",
    "---"
   ]
  },
  {
   "cell_type": "code",
   "execution_count": 46,
   "id": "f8fc9604-9e93-4c5d-b698-42aa5b037f1b",
   "metadata": {},
   "outputs": [
    {
     "data": {
      "text/plain": [
       "5490.393881196964"
      ]
     },
     "execution_count": 46,
     "metadata": {},
     "output_type": "execute_result"
    }
   ],
   "source": [
    "Q1 = visits_info['session_duration'].quantile(0.25)\n",
    "Q3 = visits_info['session_duration'].quantile(0.75)\n",
    "upper_bound = Q3 + 1.5 * (Q3-Q1)\n",
    "upper_bound"
   ]
  },
  {
   "cell_type": "code",
   "execution_count": 47,
   "id": "201aa38c-92de-491f-a1f5-f85695209671",
   "metadata": {},
   "outputs": [
    {
     "data": {
      "text/plain": [
       "user_id                    fffcc8249f_4\n",
       "region                    South America\n",
       "device                           iPhone\n",
       "channel                        SenseAds\n",
       "session_duration            5490.224398\n",
       "session_start       2020-06-30 23:59:45\n",
       "dtype: object"
      ]
     },
     "execution_count": 47,
     "metadata": {},
     "output_type": "execute_result"
    }
   ],
   "source": [
    "visits_info_filtered = visits_info.query('session_duration <= 5490.393881196964')\n",
    "visits_info_filtered.max()"
   ]
  },
  {
   "cell_type": "code",
   "execution_count": 48,
   "id": "78986caf-2cf1-4029-aeef-a67b36974664",
   "metadata": {},
   "outputs": [],
   "source": [
    "visits_info_filtered.to_csv('visits_info_filtered.csv', index=False)"
   ]
  },
  {
   "cell_type": "markdown",
   "id": "df7d0b9b-2980-42c6-a5ed-dc0e6c33c6eb",
   "metadata": {},
   "source": [
    "Задание № 5\n",
    "================================================================"
   ]
  },
  {
   "cell_type": "code",
   "execution_count": 50,
   "id": "eb5c94cf-a8d2-48da-9921-f6f69543ed08",
   "metadata": {},
   "outputs": [],
   "source": [
    "def filter_outliers(df,column,percentile):\n",
    "    upper_bound = df[column].quantile(percentile)\n",
    "    df_filtered = df.query(f'{column} <= @upper_bound')\n",
    "    return df_filtered\n"
   ]
  },
  {
   "cell_type": "markdown",
   "id": "ecc7ab98-b2ea-471b-907a-7181c1438fee",
   "metadata": {},
   "source": [
    "Проверка функции:\n",
    "---"
   ]
  },
  {
   "cell_type": "code",
   "execution_count": 52,
   "id": "855e00df-7b71-4021-a94d-c640410ac582",
   "metadata": {
    "scrolled": true
   },
   "outputs": [
    {
     "data": {
      "text/plain": [
       "user_id                    fffa9419ccf6\n",
       "region                    South America\n",
       "device                           iPhone\n",
       "channel                        SenseAds\n",
       "session_duration             921.303583\n",
       "session_start       2020-06-30 23:59:45\n",
       "dtype: object"
      ]
     },
     "execution_count": 52,
     "metadata": {},
     "output_type": "execute_result"
    }
   ],
   "source": [
    "visits_info_on_04 = filter_outliers(visits_info,'session_duration',0.4)\n",
    "visits_info_on_04.max()"
   ]
  }
 ],
 "metadata": {
  "kernelspec": {
   "display_name": "Python 3 (ipykernel)",
   "language": "python",
   "name": "python3"
  },
  "language_info": {
   "codemirror_mode": {
    "name": "ipython",
    "version": 3
   },
   "file_extension": ".py",
   "mimetype": "text/x-python",
   "name": "python",
   "nbconvert_exporter": "python",
   "pygments_lexer": "ipython3",
   "version": "3.12.4"
  }
 },
 "nbformat": 4,
 "nbformat_minor": 5
}
